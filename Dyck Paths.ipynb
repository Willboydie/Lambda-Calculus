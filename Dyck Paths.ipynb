{
 "cells": [
  {
   "cell_type": "markdown",
   "id": "9c156281",
   "metadata": {},
   "source": [
    "Dyck Path Method"
   ]
  },
  {
   "cell_type": "code",
   "execution_count": 176,
   "id": "9c6c5632",
   "metadata": {},
   "outputs": [
    {
     "name": "stdout",
     "output_type": "stream",
     "text": [
      "[[1, 1, 1, 1, 0, 0, 0, 0], [1, 1, 1, 0, 1, 0, 0, 0], [1, 1, 1, 0, 0, 1, 0, 0], [1, 1, 1, 0, 0, 0, 1, 0], [1, 1, 0, 1, 1, 0, 0, 0], [1, 1, 0, 1, 0, 1, 0, 0], [1, 1, 0, 1, 0, 0, 1, 0], [1, 1, 0, 0, 1, 1, 0, 0], [1, 1, 0, 0, 1, 0, 1, 0], [1, 0, 1, 1, 1, 0, 0, 0], [1, 0, 1, 1, 0, 1, 0, 0], [1, 0, 1, 1, 0, 0, 1, 0], [1, 0, 1, 0, 1, 1, 0, 0], [1, 0, 1, 0, 1, 0, 1, 0]]\n"
     ]
    }
   ],
   "source": [
    "class dyckpaths:\n",
    "    \n",
    "    def __init__(self, n, one_count, zero_count):\n",
    "        \n",
    "        self.left = None\n",
    "        self.right = None\n",
    "        \n",
    "        if one_count < n:\n",
    "            self.left = dyckpaths(n, one_count + 1, zero_count)\n",
    "        if zero_count < one_count:\n",
    "            self.right = dyckpaths(n, one_count, zero_count + 1)\n",
    "            \n",
    "            \n",
    "    def get_dyckpaths(self, root, paths):\n",
    "        \n",
    "        if self.left:\n",
    "            self.left.get_dyckpaths(root + [1], paths)\n",
    "            \n",
    "        if self.right:\n",
    "            self.right.get_dyckpaths(root + [0], paths)\n",
    "            \n",
    "        if self.left == None and self.right == None:\n",
    "            paths.append(root)\n",
    "\n",
    "paths = []\n",
    "dyckpaths(4, 0, 0).get_dyckpaths([], paths)\n",
    "print(paths)"
   ]
  },
  {
   "cell_type": "code",
   "execution_count": null,
   "id": "78cf86eb",
   "metadata": {},
   "outputs": [],
   "source": []
  },
  {
   "cell_type": "code",
   "execution_count": 178,
   "id": "ffed4a16",
   "metadata": {},
   "outputs": [
    {
     "name": "stdout",
     "output_type": "stream",
     "text": [
      "['(0(1(2(3))))', '(0(1(2)(3)))', '(0(1(2))(3))', '(0(1(2)))(3)', '(0(1)(2(3)))', '(0(1)(2)(3))', '(0(1)(2))(3)', '(0(1))(2(3))', '(0(1))(2)(3)', '(0)(1(2(3)))', '(0)(1(2)(3))', '(0)(1(2))(3)', '(0)(1)(2(3))', '(0)(1)(2)(3)']\n"
     ]
    }
   ],
   "source": [
    "exps = []\n",
    "\n",
    "for path in paths:\n",
    "    exp = ''\n",
    "    num = -1\n",
    "    for p in path:\n",
    "        if p == 1:\n",
    "            num += 1\n",
    "            exp += f'({num}'\n",
    "        if p == 0:\n",
    "            exp += ')'\n",
    "            \n",
    "    exps.append(exp)\n",
    "    \n",
    "print(exps)"
   ]
  },
  {
   "cell_type": "code",
   "execution_count": 168,
   "id": "4845af73",
   "metadata": {},
   "outputs": [],
   "source": [
    "class star_form:\n",
    "    \n",
    "    def __init__(self, string):\n",
    "        self.string = string\n",
    "        \n",
    "    def __call__(self, other):\n",
    "        inp = str(other)\n",
    "#         new_string = \"(\"+ self.string + \" * \" + star_form(other).string + \")\"\n",
    "        return inp\n"
   ]
  },
  {
   "cell_type": "code",
   "execution_count": 169,
   "id": "97f8a134",
   "metadata": {},
   "outputs": [
    {
     "name": "stderr",
     "output_type": "stream",
     "text": [
      "<string>:1: SyntaxWarning: 'int' object is not callable; perhaps you missed a comma?\n"
     ]
    },
    {
     "ename": "TypeError",
     "evalue": "'int' object is not callable",
     "output_type": "error",
     "traceback": [
      "\u001b[1;31m---------------------------------------------------------------------------\u001b[0m",
      "\u001b[1;31mTypeError\u001b[0m                                 Traceback (most recent call last)",
      "Input \u001b[1;32mIn [169]\u001b[0m, in \u001b[0;36m<cell line: 2>\u001b[1;34m()\u001b[0m\n\u001b[0;32m      1\u001b[0m eg \u001b[38;5;241m=\u001b[39m \u001b[38;5;124m'\u001b[39m\u001b[38;5;124m1(2)\u001b[39m\u001b[38;5;124m'\u001b[39m\n\u001b[1;32m----> 2\u001b[0m \u001b[38;5;28mprint\u001b[39m(\u001b[38;5;28;43meval\u001b[39;49m\u001b[43m(\u001b[49m\u001b[43meg\u001b[49m\u001b[43m)\u001b[49m)\n",
      "File \u001b[1;32m<string>:1\u001b[0m, in \u001b[0;36m<module>\u001b[1;34m\u001b[0m\n",
      "\u001b[1;31mTypeError\u001b[0m: 'int' object is not callable"
     ]
    }
   ],
   "source": [
    "\n",
    "eg = 'A(Z)'\n",
    "print(eval(eg))"
   ]
  },
  {
   "cell_type": "code",
   "execution_count": 244,
   "id": "13c3cade",
   "metadata": {},
   "outputs": [],
   "source": [
    "def find_input(multiplier, exp):\n",
    "\n",
    "    right = 0\n",
    "    left= 0\n",
    "    inputs = False\n",
    "    number = False\n",
    "\n",
    "    leng = len(multiplier)\n",
    "\n",
    "    inp = \"\"\n",
    "    num = \"\"\n",
    "\n",
    "\n",
    "    for i, char in enumerate(exp):\n",
    "            \n",
    "        \n",
    "        if exp[i-leng:i] == multiplier:\n",
    "            inputs = True\n",
    "            mult = multiplier\n",
    "            right = 0\n",
    "            left = 0\n",
    "            \n",
    "        if exp[i-2-leng:i] == \"(\" + multiplier + \")\":\n",
    "            inp = \"\"\n",
    "            mult = \"(\" + multiplier + \")\"\n",
    "            right = 0\n",
    "            left = 0\n",
    "                    \n",
    "        if inputs and left == 0 and char.isnumeric():\n",
    "            number = True\n",
    "            num += char\n",
    "\n",
    "        if number and left == 0 and not char.isnumeric():\n",
    "            inp = num\n",
    "            return inp\n",
    "\n",
    "        if char == \"(\":\n",
    "            left += 1\n",
    "        if char == \")\":\n",
    "            right += 1\n",
    "\n",
    "        if inputs and left >= right: \n",
    "            inp += char\n",
    "            mult += char\n",
    "\n",
    "        if inputs and not number and left == right:\n",
    "            if inp == \"(\":\n",
    "                return None\n",
    "            return inp, mult"
   ]
  },
  {
   "cell_type": "code",
   "execution_count": 253,
   "id": "f7bbc9ca",
   "metadata": {},
   "outputs": [
    {
     "name": "stdout",
     "output_type": "stream",
     "text": [
      "<class 'str'> 0(5)\n"
     ]
    }
   ],
   "source": [
    "a, b = find_input(\"0\", \"0(5)\")\n",
    "print(type(a), b)"
   ]
  },
  {
   "cell_type": "code",
   "execution_count": 256,
   "id": "d55f1fec",
   "metadata": {},
   "outputs": [],
   "source": [
    "def get_structure(exp):\n",
    "    '''\n",
    "    Splits an expression into its functions (in order) and its composition structure.\n",
    "    '''\n",
    "    new_exp = \"\"\n",
    "    SKI = []\n",
    "    j = 0\n",
    "    for char in exp:\n",
    "        if char == \"S\" or char == \"K\" or char == \"I\":\n",
    "            new_exp += f\"{j}\"\n",
    "            SKI.append(char)\n",
    "            j += 1\n",
    "        else:\n",
    "            new_exp += char\n",
    "\n",
    "    return new_exp, SKI "
   ]
  },
  {
   "cell_type": "code",
   "execution_count": 257,
   "id": "0f422221",
   "metadata": {},
   "outputs": [],
   "source": [
    "import re\n",
    "\n",
    "def subin_to_exp(exp, SKI):\n",
    "\n",
    "    l = len(SKI) - 1\n",
    "    for i, s in enumerate(SKI):\n",
    "        exp = re.sub(fr\"{l - i}\", fr\"{SKI[l - i]}\", exp)\n",
    "    \n",
    "    return exp"
   ]
  },
  {
   "cell_type": "code",
   "execution_count": 276,
   "id": "55dd4b89",
   "metadata": {},
   "outputs": [],
   "source": [
    "### defining SKIsimplify()\n",
    "import re\n",
    "\n",
    "def SKIsimplify(SKI_exp):\n",
    "    \n",
    "    exp, SKI = get_structure(SKI_exp)\n",
    "    \n",
    "    only_S = False\n",
    "    \n",
    "    shortest_exp = (len(exp), exp, SKI)\n",
    "    \n",
    "    it = 0\n",
    "    j = -1\n",
    "    while j < len(SKI)-1:\n",
    "        it += 1\n",
    "        j +=1\n",
    "        \n",
    "        \n",
    "        prod = f\"{j}\"\n",
    "        # identifying the functions curried inputs\n",
    "        inputs = []\n",
    "        prods = []\n",
    "        while len(inputs) <= 3:\n",
    "            \n",
    "            if find_input(prod, exp) == None:\n",
    "                break\n",
    "            else:\n",
    "                inp, prod = find_input(prod, exp)\n",
    "\n",
    "            inputs.append(inp)\n",
    "            prods.append(prod)\n",
    "\n",
    "        ## Create inputss, its just inputs but has a \\ before every symbol so re.sub can read it\n",
    "        inputss = []\n",
    "        for inp in inputs:\n",
    "            inps = \"\"\n",
    "            for i in inp:\n",
    "                if i == \"(\" or i == \")\":\n",
    "                    i = re.sub(fr\"\\{i}\", fr\"\\\\{i}\", i)\n",
    "                inps += i\n",
    "            inputss.append(inps)\n",
    "            \n",
    "        prodss = []\n",
    "        for prod in prods:\n",
    "            pro = \"\"\n",
    "            for i in prod:\n",
    "                if i == \"(\" or i == \")\":\n",
    "                    i = re.sub(fr\"\\{i}\", fr\"\\\\{i}\", i)\n",
    "                pro += i\n",
    "            prodss.append(pro)\n",
    "        \n",
    "        ### Performing the action of the combinators in the expression\n",
    "        \n",
    "        if SKI[int(j)] == \"K\" and len(inputs) >= 2:\n",
    "\n",
    "            exp = re.sub(prodss[1], inputs[0], exp)\n",
    "            j = -1\n",
    "            only_S = False\n",
    "\n",
    "        elif SKI[int(j)] == \"I\" and len(inputs) >= 1:\n",
    "\n",
    "            exp = re.sub(prodss[0], inputs[0], exp)\n",
    "            j = -1\n",
    "            only_S = False\n",
    "                    \n",
    "        elif SKI[int(j)] == \"S\" and len(inputs) >= 3 and only_S:\n",
    "\n",
    "            exp = re.sub(prodss[2], \n",
    "                         fr\"{inputs[0]}({inputs[2]})({inputs[1]}({inputs[2]}))\", exp)\n",
    "            j = -1\n",
    "            only_S = False\n",
    "        \n",
    "        if j == len(SKI) - 1 and not only_S:\n",
    "            j = -1\n",
    "            only_S = True\n",
    "\n",
    "\n",
    "        ## Renumbering our new expression, and finding the new order of S, K, Is\n",
    "        nums = []\n",
    "        new_exp = \"\"\n",
    "        count = 0\n",
    "        num = \"\"\n",
    "        number = False\n",
    "        for i, char in enumerate(exp):\n",
    "            if char.isnumeric() and len(exp) == 1:\n",
    "                number = True\n",
    "                new_exp += \"0\"\n",
    "                nums.append(char)\n",
    "            if char.isnumeric() and len(exp) != 1:\n",
    "                number = True\n",
    "                num += char\n",
    "            if number and not char.isnumeric():\n",
    "                number = False\n",
    "                new_exp += f\"{count}\"\n",
    "                nums.append(num)\n",
    "                num = \"\"\n",
    "                count += 1\n",
    "            if not number:\n",
    "                new_exp += char\n",
    "\n",
    "        ## Reording our SKI list according to the new combination after the action of the combinators\n",
    "        new_SKI = []\n",
    "        for no in nums:\n",
    "            new_SKI.append(SKI[int(no)])\n",
    "        \n",
    "        ## Updating our expression and SKI list\n",
    "        SKI = new_SKI\n",
    "        exp = new_exp\n",
    "        \n",
    "        ## update the shortest new_exp so far - will be returned if the combo is volatile\n",
    "        if len(exp) < shortest_exp[0]:\n",
    "            shortest_exp = (len(exp), exp, SKI)\n",
    "        if it > 100:\n",
    "            return subin_to_exp(shortest_exp[1], shortest_exp[2]), \"vol\"\n",
    "        \n",
    "    return subin_to_exp(exp, SKI), \"con\""
   ]
  },
  {
   "cell_type": "code",
   "execution_count": 277,
   "id": "64e0b5ae",
   "metadata": {},
   "outputs": [
    {
     "data": {
      "text/plain": [
       "('(((S(I))(I)))((((S(I))(I))))', 'con')"
      ]
     },
     "execution_count": 277,
     "metadata": {},
     "output_type": "execute_result"
    }
   ],
   "source": [
    "SKIsimplify(\"((S(I))(I))((S(I))(I))\")"
   ]
  },
  {
   "cell_type": "code",
   "execution_count": null,
   "id": "bf2078e3",
   "metadata": {},
   "outputs": [],
   "source": []
  }
 ],
 "metadata": {
  "kernelspec": {
   "display_name": "Python 3 (ipykernel)",
   "language": "python",
   "name": "python3"
  },
  "language_info": {
   "codemirror_mode": {
    "name": "ipython",
    "version": 3
   },
   "file_extension": ".py",
   "mimetype": "text/x-python",
   "name": "python",
   "nbconvert_exporter": "python",
   "pygments_lexer": "ipython3",
   "version": "3.9.12"
  }
 },
 "nbformat": 4,
 "nbformat_minor": 5
}
