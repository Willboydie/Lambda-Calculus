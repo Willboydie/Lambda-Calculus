{
 "cells": [
  {
   "cell_type": "markdown",
   "id": "9c156281",
   "metadata": {},
   "source": [
    "## Dyck Path Method\n",
    "This method makes use of the class functionality and recursion to generate all the Dyck Paths of length n. Notice how the __init__ function within dyckpaths creates other instances of the class in a cascade, keeping __one_count__ and __zero_count__ balanced and less than __n__ for all instances of the class, but creating new instances whenever a path can either go up or down and still remain a valid Dyck Path. In this way, Python recursively finds every Dyck path, or 'function tree'. The __get_dyckpaths__ class function recursively traces the steps of each dyck path, and expresses them as lists of 1s and 0s ('step up' and 'step down' if thinking about Dyck Paths)."
   ]
  },
  {
   "cell_type": "code",
   "execution_count": 45,
   "id": "9c6c5632",
   "metadata": {},
   "outputs": [
    {
     "name": "stdout",
     "output_type": "stream",
     "text": [
      "[[1, 1, 1, 0, 0, 0], [1, 1, 0, 1, 0, 0], [1, 1, 0, 0, 1, 0], [1, 0, 1, 1, 0, 0], [1, 0, 1, 0, 1, 0]]\n"
     ]
    }
   ],
   "source": [
    "class dyckpaths:\n",
    "    \n",
    "    def __init__(self, n, one_count, zero_count):\n",
    "        '''\n",
    "        Recursively produces instances of the dyckpaths class, each instance being created at branching point\n",
    "        of a function tree. Will continue to create instances of the class until there are none left\n",
    "        '''\n",
    "        # initialise both options, up and down steps as invalid until checked otherwise\n",
    "        self.left = None\n",
    "        self.right = None\n",
    "        \n",
    "        if one_count < n: # a step up is a valid move\n",
    "            self.left = dyckpaths(n, one_count + 1, zero_count) # a new class is created, while the extra up move is logged\n",
    "            \n",
    "        if zero_count < one_count: # a step down is a valid move\n",
    "            self.right = dyckpaths(n, one_count, zero_count + 1) # a new class is created, the down move is logged\n",
    "            \n",
    "        # clearly, when both stepping up and down is a valid move, a class is created for both options\n",
    "               \n",
    "    def get_dyckpaths(self, root, paths):\n",
    "        '''\n",
    "        Traces the route of each Dyck Path class, listing up moves as 1 and down moves as 0.\n",
    "        '''\n",
    "        if self.left:\n",
    "            self.left.get_dyckpaths(root + [1], paths)\n",
    "            \n",
    "        if self.right:\n",
    "            self.right.get_dyckpaths(root + [0], paths)\n",
    "            \n",
    "        if self.left == None and self.right == None:\n",
    "            paths.append(root)\n",
    "            \n",
    "\n",
    "paths = [] # initialise an empty set to contain our Dyck Paths to be generated\n",
    "dyckpaths(3, 0, 0).get_dyckpaths([], paths) # generate the dyck paths and add them to the empty set\n",
    "print(paths)"
   ]
  },
  {
   "cell_type": "code",
   "execution_count": 34,
   "id": "49477940",
   "metadata": {},
   "outputs": [
    {
     "name": "stdout",
     "output_type": "stream",
     "text": [
      "[['//', '//', '//', '\\\\', '\\\\', '\\\\'], ['//', '//', '\\\\', '//', '\\\\', '\\\\'], ['//', '//', '\\\\', '\\\\', '//', '\\\\'], ['//', '\\\\', '//', '//', '\\\\', '\\\\'], ['//', '\\\\', '//', '\\\\', '//', '\\\\']]\n"
     ]
    }
   ],
   "source": [
    "import copy\n",
    "\n",
    "# Just a bit of fun, replaces 1s with / and downs with \\ to give an idea of physical shape of the paths\n",
    "\n",
    "edges = copy.deepcopy(paths)\n",
    "\n",
    "for edge in edges:\n",
    "    for i in range(len(edge)):\n",
    "        if edge[i] == 1:\n",
    "            edge[i] = \"//\"\n",
    "        else:\n",
    "            edge[i] = \"\\\\\"\n",
    "            \n",
    "print(edges)"
   ]
  },
  {
   "cell_type": "markdown",
   "id": "7216986d",
   "metadata": {},
   "source": [
    "The cell below translates the dyck path lists into their corresponding functional composition structures. The bijection between these two mathematical objects is explored and motivated in the report."
   ]
  },
  {
   "cell_type": "code",
   "execution_count": 35,
   "id": "ffed4a16",
   "metadata": {},
   "outputs": [
    {
     "name": "stdout",
     "output_type": "stream",
     "text": [
      "['(0(1(2)))', '(0(1)(2))', '(0(1))(2)', '(0)(1(2))', '(0)(1)(2)']\n"
     ]
    }
   ],
   "source": [
    "exps = []\n",
    "\n",
    "for path in paths:\n",
    "    exp = ''\n",
    "    num = -1\n",
    "    for p in path:\n",
    "        if p == 1:\n",
    "            num += 1\n",
    "            exp += f'({num}'\n",
    "        if p == 0:\n",
    "            exp += ')'\n",
    "            \n",
    "    exps.append(exp)\n",
    "    \n",
    "print(exps)"
   ]
  }
 ],
 "metadata": {
  "kernelspec": {
   "display_name": "Python 3 (ipykernel)",
   "language": "python",
   "name": "python3"
  },
  "language_info": {
   "codemirror_mode": {
    "name": "ipython",
    "version": 3
   },
   "file_extension": ".py",
   "mimetype": "text/x-python",
   "name": "python",
   "nbconvert_exporter": "python",
   "pygments_lexer": "ipython3",
   "version": "3.9.12"
  }
 },
 "nbformat": 4,
 "nbformat_minor": 5
}
