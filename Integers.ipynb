{
 "cells": [
  {
   "cell_type": "code",
   "execution_count": 1,
   "id": "7441c398",
   "metadata": {},
   "outputs": [],
   "source": [
    "def bool_SHOW(f):\n",
    "    if f(\"honey\")(\"badger\") == \"badger\":\n",
    "        return \"FALSE\"\n",
    "        \n",
    "    elif f(\"honey\")(\"badger\") == \"honey\":\n",
    "        return \"TRUE\"\n",
    "    \n",
    "    else:\n",
    "        return \"faulty\""
   ]
  },
  {
   "cell_type": "code",
   "execution_count": 2,
   "id": "96b36764",
   "metadata": {},
   "outputs": [],
   "source": [
    "S = lambda x: lambda y: lambda z: x(z)(y(z))\n",
    "K = lambda x: lambda y: x # == TRUE\n",
    "I = lambda x: x # == ID\n",
    "\n",
    "I = S(K)(K)\n",
    "FALSE = K(I)\n",
    "NOT = S(S(I)(K(FALSE)))(K(K))\n",
    "NOT = S(S(K(S(K(S))(K)))(S))(K(K))\n",
    "\n",
    "OR = S(I)(K(K))\n",
    "AND = S(S)(K(K(FALSE)))"
   ]
  },
  {
   "cell_type": "code",
   "execution_count": 3,
   "id": "44ad52b6",
   "metadata": {},
   "outputs": [],
   "source": [
    "TRUE = lambda x: lambda y: x\n",
    "FALSE = lambda x: lambda y: y\n",
    "ID = lambda x: x\n",
    "NOT = lambda f: lambda x: lambda y: f(y)(x)\n",
    "AND = lambda f: lambda g: lambda x: lambda y: f(g(x)(y))(y)\n",
    "OR = lambda f: lambda g: lambda x: lambda y: f(x)(g(x)(y))\n",
    "\n",
    "XOR = lambda f: lambda g: f(g(lambda x: lambda y: y)(lambda x: lambda y: x))(g)\n",
    "\n",
    "ZERO = lambda f: lambda x: x\n",
    "ONE = lambda f: lambda x: f(x)\n",
    "TWO = lambda f: lambda x: f(f(x))\n",
    "THREE = lambda f: lambda x: f(f(f(x)))\n",
    "FOUR = lambda f: lambda x: f(f(f(f(x))))\n",
    "FIVE = lambda f: lambda x: f(f(f(f(f(x)))))\n",
    "SIX = lambda f: lambda x: f(f(f(f(f(f(x))))))\n",
    "\n",
    "\n",
    "ADD = lambda B: lambda A: lambda f: lambda x: B(f(A(f)(x)))(A)\n",
    "NEXT = lambda A: lambda f: lambda x: f(A(f)(x))"
   ]
  },
  {
   "cell_type": "code",
   "execution_count": null,
   "id": "99659741",
   "metadata": {},
   "outputs": [],
   "source": []
  },
  {
   "cell_type": "code",
   "execution_count": 4,
   "id": "78a85bdc",
   "metadata": {},
   "outputs": [
    {
     "name": "stdout",
     "output_type": "stream",
     "text": [
      "AND(TRUE)(TRUE) =  TRUE\n",
      "AND(TRUE)(FALSE) =  FALSE\n",
      "AND(FALSE)(TRUE) =  FALSE\n",
      "XOR(TRUE)(FALSE) =  TRUE\n"
     ]
    }
   ],
   "source": [
    "print(\"AND(TRUE)(TRUE) = \", bool_SHOW(AND(TRUE)(TRUE)))\n",
    "print(\"AND(TRUE)(FALSE) = \", bool_SHOW(AND(TRUE)(FALSE)))\n",
    "print(\"AND(FALSE)(TRUE) = \", bool_SHOW(AND(FALSE)(TRUE)))\n",
    "print(\"XOR(TRUE)(FALSE) = \", bool_SHOW(XOR(TRUE)(FALSE)))"
   ]
  },
  {
   "cell_type": "code",
   "execution_count": 5,
   "id": "159edd0e",
   "metadata": {},
   "outputs": [],
   "source": [
    "def TRUE(x):\n",
    "    def s(y):\n",
    "        return x\n",
    "    return s\n",
    "\n",
    "def ID(y):\n",
    "    return y\n",
    "\n",
    "def FALSE(x):\n",
    "    return ID\n",
    "\n",
    "def NOT(f):\n",
    "    def s(x):\n",
    "        def G(y):\n",
    "            return f(y)(x)\n",
    "        return G\n",
    "    return s\n",
    "\n",
    "\n",
    "def AND(f):\n",
    "    def s(g):\n",
    "        def G(x):\n",
    "            def H(y):\n",
    "                return f(g(x)(y))(y)\n",
    "            return H\n",
    "        return G\n",
    "    return s\n",
    "\n",
    "def OR(f):\n",
    "    def s(g):\n",
    "        def G(x):\n",
    "            def H(y):\n",
    "                return f(x)(g(x)(y))\n",
    "            return H\n",
    "        return G\n",
    "    return s\n",
    "\n",
    "def XOR(f):\n",
    "    def s(g):\n",
    "        return f(g(FALSE)(TRUE))(g)\n",
    "    return s"
   ]
  },
  {
   "cell_type": "code",
   "execution_count": 6,
   "id": "81132336",
   "metadata": {},
   "outputs": [],
   "source": [
    "ZERO = lambda f: lambda x: x # == FALSE\n",
    "ONE = lambda f: lambda x: f(x) # == Id\n",
    "TWO = lambda f: lambda x: f(f(x))\n",
    "THREE = lambda f: lambda x: f(f(f(x)))\n",
    "FOUR = lambda f: lambda x: f(f(f(f(x))))\n",
    "FIVE = lambda f: lambda x: f(f(f(f(f(x)))))\n",
    "SIX = lambda f: lambda x: f(f(f(f(f(f(x))))))\n",
    "\n",
    "def ZERO(f):\n",
    "    def F(x):\n",
    "        return x\n",
    "    return F\n",
    "\n",
    "def NEXT(A):\n",
    "    def F(f):\n",
    "        def G(x):\n",
    "            return f(A(f)(x))\n",
    "        return G\n",
    "    return F\n",
    "\n",
    "NEXT = lambda A: lambda f: lambda x: f(A(f)(x))\n",
    "\n",
    "def ADD(A):\n",
    "    def F(B):\n",
    "        return A(NEXT)(B)\n",
    "    return F\n",
    "\n",
    "ADD = lambda B: lambda A: B(NEXT)(A)\n",
    "ADD = lambda B: lambda C: B(lambda A: lambda f: lambda x: f(A(f)(x)))(C) # Written anonymously\n",
    "ADD = lambda a: lambda b: a(lambda a: lambda b: lambda c: b(a(b)(c)))(b) # ...and completely anonymously\n",
    "\n",
    "def MUL(B):\n",
    "    def F(A):\n",
    "        return A(ADD(B))(ZERO)\n",
    "    return F\n",
    "\n",
    "MUL = lambda B: lambda A: A(ADD(B))(ZERO)\n",
    "MUL = lambda a: lambda b: a((lambda a: lambda b: a(lambda a: lambda b: lambda c: b(a(b)(c)))(b))(b))(lambda a: lambda b: b)\n",
    "\n",
    "def POW(B):\n",
    "    def F(A):\n",
    "        return A(B)\n",
    "    return F\n",
    "\n",
    "POW = lambda A: lambda B: A(B)\n",
    "\n",
    "SEVEN = NEXT(SIX)\n",
    "EIGHT = NEXT(SEVEN)\n"
   ]
  },
  {
   "cell_type": "code",
   "execution_count": 7,
   "id": "812ed01a",
   "metadata": {},
   "outputs": [],
   "source": [
    "def posINT_show(f):\n",
    "    return f(lambda x: x + 1)(0)"
   ]
  },
  {
   "cell_type": "code",
   "execution_count": 8,
   "id": "adb9f51b",
   "metadata": {},
   "outputs": [
    {
     "name": "stdout",
     "output_type": "stream",
     "text": [
      "True\n",
      "9\n",
      "20\n",
      "6\n"
     ]
    }
   ],
   "source": [
    "print(posINT_show(NEXT(FIVE)) == posINT_show((lambda f: lambda x: f(f(f(f(f(f(x)))))))) == posINT_show(SIX))\n",
    "print(posINT_show(ADD(FIVE)(FOUR)))\n",
    "print(posINT_show(MUL(FIVE)(FOUR)))\n",
    "print(posINT_show(MUL(THREE)(TWO)))"
   ]
  },
  {
   "cell_type": "code",
   "execution_count": 9,
   "id": "9dba1d0c",
   "metadata": {},
   "outputs": [],
   "source": [
    "def showint(f):\n",
    "    if FIRST(f)(\"honey\")(\"badger\") == \"honey\":\n",
    "        print(f\"{posINT_show(SECOND(f))}\")\n",
    "        \n",
    "    elif FIRST(f)(\"honey\")(\"badger\") == \"badger\":\n",
    "        print(f\"-{posINT_show(SECOND(f))}\")\n",
    "        \n",
    "    else:\n",
    "        print(\"Faulty\")"
   ]
  },
  {
   "cell_type": "code",
   "execution_count": 10,
   "id": "c04bc8f1",
   "metadata": {},
   "outputs": [],
   "source": [
    "PAIR   = lambda x: lambda y: lambda f: f(x)(y)\n",
    "\n",
    "FIRST  = lambda P: P(TRUE)\n",
    "SECOND = lambda P: P(FALSE)\n",
    "\n",
    "NEXT_PAIR = lambda x: PAIR(SECOND(x))(NEXT(SECOND(x)))\n",
    "\n",
    "PRIOR = lambda N: FIRST(N(NEXT_PAIR)(PAIR(ZERO)(ZERO)))\n",
    "\n",
    "SUB  = lambda N: lambda M: M(PRIOR)(N)"
   ]
  },
  {
   "cell_type": "code",
   "execution_count": 11,
   "id": "a5da70f5",
   "metadata": {},
   "outputs": [],
   "source": [
    "posSIX = PAIR(TRUE)(SIX)\n",
    "posFIVE = PAIR(TRUE)(FIVE)\n",
    "posFOUR = PAIR(TRUE)(FOUR)\n",
    "posTHREE = PAIR(TRUE)(THREE)\n",
    "posTWO = PAIR(TRUE)(TWO)\n",
    "posONE = PAIR(TRUE)(ONE)\n",
    "zero = PAIR(TRUE)(ZERO)\n",
    "negONE = PAIR(FALSE)(ONE)\n",
    "negTWO = PAIR(FALSE)(TWO)\n",
    "negTHREE = PAIR(FALSE)(THREE)\n",
    "negFOUR = PAIR(FALSE)(FOUR)\n",
    "negFIVE = PAIR(FALSE)(FIVE)\n",
    "negSIX = PAIR(FALSE)(SIX)"
   ]
  },
  {
   "cell_type": "code",
   "execution_count": 12,
   "id": "6fb1d77f",
   "metadata": {},
   "outputs": [
    {
     "data": {
      "text/plain": [
       "'FALSE'"
      ]
     },
     "execution_count": 12,
     "metadata": {},
     "output_type": "execute_result"
    }
   ],
   "source": [
    "def ISZERO(N): ### for natural number input\n",
    "    def G(x):\n",
    "        return FALSE\n",
    "    return N(G)(TRUE)\n",
    "\n",
    "ISZERO = lambda N: N(lambda x: (lambda x: lambda y: y))(lambda x: lambda y: x)\n",
    "\n",
    "bool_SHOW(ISZERO(EIGHT))\n",
    "\n",
    "# Output:\n",
    "# # 'FALSE'"
   ]
  },
  {
   "cell_type": "code",
   "execution_count": 13,
   "id": "c6592436",
   "metadata": {},
   "outputs": [],
   "source": [
    "def NEG(f):\n",
    "    sign = FIRST(f)\n",
    "    num = SECOND(f)\n",
    "    return PAIR(OR(NOT(sign))(ISZERO(num)))(num)"
   ]
  },
  {
   "cell_type": "code",
   "execution_count": 14,
   "id": "118a61fa",
   "metadata": {},
   "outputs": [],
   "source": [
    "def NEXTint(N):\n",
    "    num = SECOND(N)\n",
    "    sign = FIRST(N)\n",
    "    new_num = sign(NEXT)(PRIOR)(num)\n",
    "    new_sign = OR(sign)(ISZERO(new_num))\n",
    "    return PAIR(new_sign)(new_num)\n",
    "\n",
    "def PRIORint(N):\n",
    "    num = SECOND(N)\n",
    "    sign = FIRST(N)\n",
    "    new_sign = AND(NOT(ISZERO(num)))(sign)\n",
    "    new_num = new_sign(PRIOR)(NEXT)(num)\n",
    "    return PAIR(new_sign)(new_num)\n",
    "\n",
    "negSEVEN = PRIORint(negSIX)\n",
    "negEIGHT = PRIORint(negSEVEN)\n",
    "negNINE = PRIORint(negEIGHT)\n",
    "negTEN = PRIORint(negNINE)\n",
    "negELEVEN = PRIORint(negTEN)\n",
    "negTWELVE= PRIORint(negELEVEN)\n",
    "posSEVEN = NEXTint(posSIX)\n",
    "posEIGHT = NEXTint(posSEVEN)\n",
    "posNINE = NEXTint(posEIGHT)\n",
    "posTEN = NEXTint(posNINE)\n",
    "posELEVEN = NEXTint(posTEN)\n",
    "posTWELVE = NEXTint(posELEVEN)"
   ]
  },
  {
   "cell_type": "code",
   "execution_count": 15,
   "id": "37a764f1",
   "metadata": {},
   "outputs": [],
   "source": [
    "def ADDint(B):\n",
    "    def s(A):\n",
    "        return SECOND(B)(FIRST(B)(NEXTint)(PRIORint))(A)\n",
    "    return s\n",
    "\n",
    "def SUBint(A):\n",
    "    def s(B):\n",
    "        return ADDint(NEG(A))(B)\n",
    "    return s\n",
    "\n",
    "# def MULint(B):  ### this version works but is not in the spirit of the task imo - it is not instructive or intuitive\n",
    "#     def s(A):\n",
    "#         sign1 = First(A)\n",
    "#         sign2 = First(B)\n",
    "#         num1 = Second(A)\n",
    "#         num2 = Second(B)\n",
    "#         return pair(Or(Or(ISZERO(num1))(ISZERO(num2)))(Not(XOR(sign1)(sign2))))(MUL(num1)(num2))\n",
    "#     return s\n",
    "\n",
    "def MULint(B):\n",
    "    def s(A):\n",
    "        return FIRST(B)(SECOND(B)((ADDint)(A)))(SECOND(B)((SUBint)(A)))(zero)\n",
    "    return s\n",
    "\n",
    "### dividing would take us out of the integers into the rationals, we can define POWint that takes only positive powers,\n",
    "### but that would simply be analogous to our previous function POW.\n",
    "\n",
    "    "
   ]
  },
  {
   "cell_type": "code",
   "execution_count": 16,
   "id": "c71bdee5",
   "metadata": {},
   "outputs": [
    {
     "name": "stdout",
     "output_type": "stream",
     "text": [
      "-4\n",
      "10\n",
      "20\n"
     ]
    }
   ],
   "source": [
    "showint(ADDint(posSEVEN)(negELEVEN))\n",
    "showint(SUBint(negFOUR)(posSIX))\n",
    "showint(MULint(negFOUR)(negFIVE))"
   ]
  },
  {
   "cell_type": "code",
   "execution_count": 17,
   "id": "44182015",
   "metadata": {},
   "outputs": [
    {
     "name": "stdout",
     "output_type": "stream",
     "text": [
      "-63\n"
     ]
    }
   ],
   "source": [
    "showint(MULint(negNINE)(posSEVEN))"
   ]
  },
  {
   "cell_type": "code",
   "execution_count": 18,
   "id": "5be726fc",
   "metadata": {},
   "outputs": [
    {
     "name": "stdout",
     "output_type": "stream",
     "text": [
      "4\n"
     ]
    }
   ],
   "source": [
    "def fg(args):\n",
    "    return (args)**2\n",
    "\n",
    "print(fg(2))"
   ]
  },
  {
   "cell_type": "code",
   "execution_count": 19,
   "id": "753828bd",
   "metadata": {},
   "outputs": [],
   "source": [
    "PRIOR = lambda N: FIRST(N(NEXT_PAIR)(PAIR(ZERO)(ZERO)))\n",
    "MUL = lambda B: lambda A: A(ADD(B))(ZERO)"
   ]
  },
  {
   "cell_type": "code",
   "execution_count": null,
   "id": "0d939a71",
   "metadata": {},
   "outputs": [],
   "source": [
    "Z = lambda f: (lambda x: x(x))(lambda x: f(lambda *args: x(x)(*args)))\n",
    "\n",
    "fact = lambda g: lambda a: ISZERO(a)(EIGHT)(MUL(a)(g(PRIOR(a))))\n",
    "\n",
    "posINT_show(fact(FOUR))"
   ]
  },
  {
   "cell_type": "code",
   "execution_count": null,
   "id": "46d3187a",
   "metadata": {},
   "outputs": [],
   "source": [
    "X = F(X) = F(F(X)) = F(F(F(X)))"
   ]
  }
 ],
 "metadata": {
  "kernelspec": {
   "display_name": "Python 3 (ipykernel)",
   "language": "python",
   "name": "python3"
  },
  "language_info": {
   "codemirror_mode": {
    "name": "ipython",
    "version": 3
   },
   "file_extension": ".py",
   "mimetype": "text/x-python",
   "name": "python",
   "nbconvert_exporter": "python",
   "pygments_lexer": "ipython3",
   "version": "3.9.12"
  }
 },
 "nbformat": 4,
 "nbformat_minor": 5
}
