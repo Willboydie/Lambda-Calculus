{
 "cells": [
  {
   "cell_type": "code",
   "execution_count": 18,
   "id": "c928abc4",
   "metadata": {},
   "outputs": [
    {
     "name": "stdout",
     "output_type": "stream",
     "text": [
      "Insert number here: 13\n",
      "13. That is too big.\n"
     ]
    }
   ],
   "source": [
    "num = input(\"Insert number here: \")\n",
    "# print(eval(num))\n",
    "if eval(num) < 10:\n",
    "    print(str(num) + \". That is too small.\")\n",
    "    \n",
    "if eval(num) == 10:\n",
    "    print(str(num) + \". Congratulations, 10 is the magic number.\")\n",
    "    \n",
    "if eval(num) > 10:\n",
    "    print(str(num) + \". That is too big.\")"
   ]
  },
  {
   "cell_type": "code",
   "execution_count": 23,
   "id": "65aa825e",
   "metadata": {},
   "outputs": [
    {
     "name": "stdout",
     "output_type": "stream",
     "text": [
      "60\n"
     ]
    }
   ],
   "source": [
    "print(eval(\"20*3\"))"
   ]
  },
  {
   "cell_type": "code",
   "execution_count": 105,
   "id": "e430319f",
   "metadata": {},
   "outputs": [
    {
     "name": "stdout",
     "output_type": "stream",
     "text": [
      "x = 2\n",
      "1*9*x = 18\n",
      "1*9x*? That makes no sense bro!\n",
      "1**9x? That makes no sense bro!\n",
      "1**x9? That makes no sense bro!\n",
      "1*x9*? That makes no sense bro!\n",
      "1*x*9 = 18\n",
      "19**x = 361\n",
      "19*x*? That makes no sense bro!\n",
      "19**x = 361\n",
      "19*x*? That makes no sense bro!\n",
      "19x**? That makes no sense bro!\n",
      "19x**? That makes no sense bro!\n",
      "1**9x? That makes no sense bro!\n",
      "1**x9? That makes no sense bro!\n",
      "1*9*x = 18\n",
      "1*9x*? That makes no sense bro!\n",
      "1*x*9 = 18\n",
      "1*x9*? That makes no sense bro!\n",
      "1x*9*? That makes no sense bro!\n",
      "1x**9? That makes no sense bro!\n",
      "1x9**? That makes no sense bro!\n",
      "1x9**? That makes no sense bro!\n",
      "1x**9? That makes no sense bro!\n",
      "1x*9*? That makes no sense bro!\n",
      "*19*x? That makes no sense bro!\n",
      "*19x*? That makes no sense bro!\n",
      "*1*9x? That makes no sense bro!\n",
      "*1*x9? That makes no sense bro!\n",
      "*1x9*? That makes no sense bro!\n",
      "*1x*9? That makes no sense bro!\n",
      "*91*x? That makes no sense bro!\n",
      "*91x*? That makes no sense bro!\n",
      "*9*1x? That makes no sense bro!\n",
      "*9*x1? That makes no sense bro!\n",
      "*9x1*? That makes no sense bro!\n",
      "*9x*1? That makes no sense bro!\n",
      "**19x? That makes no sense bro!\n",
      "**1x9? That makes no sense bro!\n",
      "**91x? That makes no sense bro!\n",
      "**9x1? That makes no sense bro!\n",
      "**x19? That makes no sense bro!\n",
      "**x91? That makes no sense bro!\n",
      "*x19*? That makes no sense bro!\n",
      "*x1*9? That makes no sense bro!\n",
      "*x91*? That makes no sense bro!\n",
      "*x9*1? That makes no sense bro!\n",
      "*x*19? That makes no sense bro!\n",
      "*x*91? That makes no sense bro!\n",
      "91**x = 8281\n",
      "91*x*? That makes no sense bro!\n",
      "91**x = 8281\n",
      "91*x*? That makes no sense bro!\n",
      "91x**? That makes no sense bro!\n",
      "91x**? That makes no sense bro!\n",
      "9*1*x = 18\n",
      "9*1x*? That makes no sense bro!\n",
      "9**1x? That makes no sense bro!\n",
      "9**x1? That makes no sense bro!\n",
      "9*x1*? That makes no sense bro!\n",
      "9*x*1 = 18\n",
      "9*1*x = 18\n",
      "9*1x*? That makes no sense bro!\n",
      "9**1x? That makes no sense bro!\n",
      "9**x1? That makes no sense bro!\n",
      "9*x1*? That makes no sense bro!\n",
      "9*x*1 = 18\n",
      "9x1**? That makes no sense bro!\n",
      "9x1**? That makes no sense bro!\n",
      "9x*1*? That makes no sense bro!\n",
      "9x**1? That makes no sense bro!\n",
      "9x*1*? That makes no sense bro!\n",
      "9x**1? That makes no sense bro!\n",
      "*1*9x? That makes no sense bro!\n",
      "*1*x9? That makes no sense bro!\n",
      "*19*x? That makes no sense bro!\n",
      "*19x*? That makes no sense bro!\n",
      "*1x*9? That makes no sense bro!\n",
      "*1x9*? That makes no sense bro!\n",
      "**19x? That makes no sense bro!\n",
      "**1x9? That makes no sense bro!\n",
      "**91x? That makes no sense bro!\n",
      "**9x1? That makes no sense bro!\n",
      "**x19? That makes no sense bro!\n",
      "**x91? That makes no sense bro!\n",
      "*91*x? That makes no sense bro!\n",
      "*91x*? That makes no sense bro!\n",
      "*9*1x? That makes no sense bro!\n",
      "*9*x1? That makes no sense bro!\n",
      "*9x1*? That makes no sense bro!\n",
      "*9x*1? That makes no sense bro!\n",
      "*x1*9? That makes no sense bro!\n",
      "*x19*? That makes no sense bro!\n",
      "*x*19? That makes no sense bro!\n",
      "*x*91? That makes no sense bro!\n",
      "*x91*? That makes no sense bro!\n",
      "*x9*1? That makes no sense bro!\n",
      "x1*9*? That makes no sense bro!\n",
      "x1**9? That makes no sense bro!\n",
      "x19**? That makes no sense bro!\n",
      "x19**? That makes no sense bro!\n",
      "x1**9? That makes no sense bro!\n",
      "x1*9*? That makes no sense bro!\n",
      "x*19*? That makes no sense bro!\n",
      "x*1*9 = 18\n",
      "x*91*? That makes no sense bro!\n",
      "x*9*1 = 18\n",
      "x**19 = 524288\n",
      "x**91 = 2475880078570760549798248448\n",
      "x91**? That makes no sense bro!\n",
      "x91**? That makes no sense bro!\n",
      "x9*1*? That makes no sense bro!\n",
      "x9**1? That makes no sense bro!\n",
      "x9*1*? That makes no sense bro!\n",
      "x9**1? That makes no sense bro!\n",
      "x*1*9 = 18\n",
      "x*19*? That makes no sense bro!\n",
      "x**19 = 524288\n",
      "x**91 = 2475880078570760549798248448\n",
      "x*91*? That makes no sense bro!\n",
      "x*9*1 = 18\n",
      " \n",
      "100 fails.\n",
      "That's a 16.666666666666664% success rate.\n"
     ]
    }
   ],
   "source": [
    "from itertools import permutations\n",
    "\n",
    "x = int(input(\"x = \"))\n",
    "\n",
    "funcs = \"1*9*x\"\n",
    "\n",
    "coms = list(permutations(funcs, 5))\n",
    "coms_list = []\n",
    "\n",
    "for instance in coms:\n",
    "    entry = \"\"\n",
    "    for j in range(5):\n",
    "        entry += instance[j]\n",
    "    coms_list.append(entry)\n",
    "\n",
    "fails = 0\n",
    "for entry in coms_list:\n",
    "    try:\n",
    "        print(entry + f\" = {eval(entry)}\")\n",
    "    except:\n",
    "        fails +=1\n",
    "        print(entry + \"? That makes no sense bro!\")\n",
    "\n",
    "print(\" \")\n",
    "print(f\"{fails} fails.\")\n",
    "print(f\"That's a {100*(1 - fails/len(coms_list))}% success rate.\")"
   ]
  },
  {
   "cell_type": "code",
   "execution_count": 80,
   "id": "eacb0a97",
   "metadata": {},
   "outputs": [
    {
     "ename": "TypeError",
     "evalue": "eval() arg 1 must be a string, bytes or code object",
     "output_type": "error",
     "traceback": [
      "\u001b[1;31m---------------------------------------------------------------------------\u001b[0m",
      "\u001b[1;31mTypeError\u001b[0m                                 Traceback (most recent call last)",
      "Input \u001b[1;32mIn [80]\u001b[0m, in \u001b[0;36m<cell line: 1>\u001b[1;34m()\u001b[0m\n\u001b[1;32m----> 1\u001b[0m \u001b[38;5;28mprint\u001b[39m(\u001b[38;5;28;43meval\u001b[39;49m\u001b[43m(\u001b[49m\u001b[43mcoms\u001b[49m\u001b[43m[\u001b[49m\u001b[38;5;241;43m0\u001b[39;49m\u001b[43m]\u001b[49m\u001b[43m)\u001b[49m)\n",
      "\u001b[1;31mTypeError\u001b[0m: eval() arg 1 must be a string, bytes or code object"
     ]
    }
   ],
   "source": []
  },
  {
   "cell_type": "code",
   "execution_count": null,
   "id": "f24212c8",
   "metadata": {},
   "outputs": [],
   "source": []
  }
 ],
 "metadata": {
  "kernelspec": {
   "display_name": "Python 3 (ipykernel)",
   "language": "python",
   "name": "python3"
  },
  "language_info": {
   "codemirror_mode": {
    "name": "ipython",
    "version": 3
   },
   "file_extension": ".py",
   "mimetype": "text/x-python",
   "name": "python",
   "nbconvert_exporter": "python",
   "pygments_lexer": "ipython3",
   "version": "3.9.12"
  }
 },
 "nbformat": 4,
 "nbformat_minor": 5
}
